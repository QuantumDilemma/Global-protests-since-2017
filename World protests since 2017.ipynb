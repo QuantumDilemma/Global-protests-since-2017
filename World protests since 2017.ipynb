{
 "cells": [
  {
   "cell_type": "markdown",
   "id": "539a3320",
   "metadata": {},
   "source": [
    "# Introduction"
   ]
  },
  {
   "cell_type": "markdown",
   "id": "26a58b0e",
   "metadata": {},
   "source": [
    "The selected dataset, Global Protest Tracker, is a collection of protests from all over the world since 2017. Some of which are still active. \n",
    "\n",
    "This dataset has been downloaded from Kaggle and was originally sourced from https://carnegieendowment.org/. An organisation that aims to collect and analyse data from a non-partisan perspective in the hope of contributing to a more peaceful world.\n",
    "\n",
    "The aim of this project is to discover any trends in global protests, what makes them more likely to occur and if there are any factors which determine how long they may go on for or if they become violent."
   ]
  },
  {
   "cell_type": "markdown",
   "id": "c377329d",
   "metadata": {},
   "source": [
    "## Import modules"
   ]
  },
  {
   "cell_type": "code",
   "execution_count": 40,
   "id": "361339b9",
   "metadata": {},
   "outputs": [],
   "source": [
    "import pandas as pd\n",
    "import numpy as np\n",
    "import matplotlib.pyplot as plt\n",
    "import seaborn as sns\n",
    "import re\n",
    "from datetime import datetime\n",
    "from scipy.stats import chi2_contingency\n",
    "from statistics import variance\n",
    "from scipy.stats import ttest_ind"
   ]
  },
  {
   "cell_type": "markdown",
   "id": "0b4cb4a4",
   "metadata": {},
   "source": [
    "## Import and Inspect Data"
   ]
  },
  {
   "cell_type": "code",
   "execution_count": 41,
   "id": "dd7eacbe",
   "metadata": {},
   "outputs": [],
   "source": [
    "#load csv into pandas dataframe\n",
    "df = pd.read_csv(\"GlobalProtestTracker.csv\")\n",
    "#df.head()"
   ]
  },
  {
   "cell_type": "markdown",
   "id": "7bb68949",
   "metadata": {},
   "source": [
    "### Get columns"
   ]
  },
  {
   "cell_type": "code",
   "execution_count": 42,
   "id": "5b74dcc7",
   "metadata": {},
   "outputs": [
    {
     "data": {
      "text/plain": [
       "Index(['Country', 'Protest Name', 'Start Date', 'Freedom Rating (Status)',\n",
       "       'Triggers', 'Motivations', 'Peak Size', 'Key Participants', 'Duration',\n",
       "       'Outcomes', 'Active protests', 'Economic motivation?',\n",
       "       'Political motivation?', 'Corruption motivation?', 'Size category',\n",
       "       'Protests with a significant outcome',\n",
       "       'Large protests (Over 100,000 protesting)',\n",
       "       'Violent government response', 'Long protests (more than 3 months)',\n",
       "       'Coronavirus-related protests', 'Capital city'],\n",
       "      dtype='object')"
      ]
     },
     "execution_count": 42,
     "metadata": {},
     "output_type": "execute_result"
    }
   ],
   "source": [
    "df.columns"
   ]
  },
  {
   "cell_type": "markdown",
   "id": "65e81e2b",
   "metadata": {},
   "source": [
    "### Identify missing data"
   ]
  },
  {
   "cell_type": "code",
   "execution_count": 43,
   "id": "7397ef1c",
   "metadata": {},
   "outputs": [
    {
     "name": "stdout",
     "output_type": "stream",
     "text": [
      "<class 'pandas.core.frame.DataFrame'>\n",
      "RangeIndex: 329 entries, 0 to 328\n",
      "Data columns (total 21 columns):\n",
      " #   Column                                    Non-Null Count  Dtype \n",
      "---  ------                                    --------------  ----- \n",
      " 0   Country                                   329 non-null    object\n",
      " 1   Protest Name                              329 non-null    object\n",
      " 2   Start Date                                329 non-null    object\n",
      " 3   Freedom Rating (Status)                   329 non-null    object\n",
      " 4   Triggers                                  329 non-null    object\n",
      " 5   Motivations                               329 non-null    object\n",
      " 6   Peak Size                                 329 non-null    object\n",
      " 7   Key Participants                          328 non-null    object\n",
      " 8   Duration                                  329 non-null    object\n",
      " 9   Outcomes                                  328 non-null    object\n",
      " 10  Active protests                           17 non-null     object\n",
      " 11  Economic motivation?                      117 non-null    object\n",
      " 12  Political motivation?                     286 non-null    object\n",
      " 13  Corruption motivation?                    66 non-null     object\n",
      " 14  Size category                             329 non-null    object\n",
      " 15  Protests with a significant outcome       99 non-null     object\n",
      " 16  Large protests (Over 100,000 protesting)  50 non-null     object\n",
      " 17  Violent government response               90 non-null     object\n",
      " 18  Long protests (more than 3 months)        80 non-null     object\n",
      " 19  Coronavirus-related protests              48 non-null     object\n",
      " 20  Capital city                              328 non-null    object\n",
      "dtypes: object(21)\n",
      "memory usage: 54.1+ KB\n"
     ]
    }
   ],
   "source": [
    "df.info()"
   ]
  },
  {
   "cell_type": "markdown",
   "id": "329a3626",
   "metadata": {},
   "source": [
    "It looks like categories related to motivation, significant outcome, violent response, length > 3 months, coronavirus-related are all formatted with an \"X\" if true and left blank if false. \n",
    "\n",
    "To make this easier to work with I could convert the Xs to 1 and the null values to 0.\n",
    "\n",
    "There also appear to be a few values missing, where there should be 329 values but there are only 328. Notably \"key participants\", \"outcomes\", \"capital city\". \n",
    "\n",
    "Let's try to find out why that might be."
   ]
  },
  {
   "cell_type": "markdown",
   "id": "a40aab9c",
   "metadata": {},
   "source": [
    "#### Explore Key Participants"
   ]
  },
  {
   "cell_type": "code",
   "execution_count": 44,
   "id": "64344433",
   "metadata": {},
   "outputs": [],
   "source": [
    "#get unique values for Key Participants and the number of unique values\n",
    "# print(df[\"Key Participants\"].unique())\n",
    "# print(df[\"Key Participants\"].nunique())"
   ]
  },
  {
   "cell_type": "code",
   "execution_count": 45,
   "id": "a8c5893a",
   "metadata": {},
   "outputs": [],
   "source": [
    "#get the null value row for Key Participants\n",
    "#df[df[\"Key Participants\"].isnull()]"
   ]
  },
  {
   "cell_type": "markdown",
   "id": "297e92ec",
   "metadata": {},
   "source": [
    "It looks like this kind of protest could have been largely participated in by the general public. A quick glance at the unique values for \"key participants\" shows that each value is really a list, most of which include \"General public\". Let's see how many of the 329 values included the general public as participants."
   ]
  },
  {
   "cell_type": "code",
   "execution_count": 46,
   "id": "4ca7460b",
   "metadata": {},
   "outputs": [],
   "source": [
    "#df[\"Key Participants\"].describe()"
   ]
  },
  {
   "cell_type": "markdown",
   "id": "3950c50a",
   "metadata": {},
   "source": [
    "I can see however that some entries mention the General Public amongst other categories. Let's find the real number."
   ]
  },
  {
   "cell_type": "code",
   "execution_count": 47,
   "id": "1c307af4",
   "metadata": {},
   "outputs": [
    {
     "data": {
      "text/plain": [
       "190"
      ]
     },
     "execution_count": 47,
     "metadata": {},
     "output_type": "execute_result"
    }
   ],
   "source": [
    "#create function that counts all instances of \"General Public\" in Key Participants\n",
    "def count_gp(df):\n",
    "    res = df[\"Key Participants\"].str.findall(r\"(general public)\", flags = re.IGNORECASE)\n",
    "    count = 0\n",
    "    for x in res:\n",
    "        if \"general public\"in str(x).lower():\n",
    "            count += 1\n",
    "    return count\n",
    "\n",
    "count_gp(df)"
   ]
  },
  {
   "cell_type": "code",
   "execution_count": 48,
   "id": "280d9ec2",
   "metadata": {},
   "outputs": [
    {
     "data": {
      "text/plain": [
       "57.75075987841946"
      ]
     },
     "execution_count": 48,
     "metadata": {},
     "output_type": "execute_result"
    }
   ],
   "source": [
    "#calculate percent that include General Public\n",
    "pct_gp = count_gp(df)/len(df)*100\n",
    "pct_gp"
   ]
  },
  {
   "cell_type": "markdown",
   "id": "de130aba",
   "metadata": {},
   "source": [
    "57% of protests included General Public as a category of people involved. Although many other categories could be classed as more specific groups of the general public, such as \"Residents of\". Not really enough to confidently assume the public would be involved in any given protest on it's own. But due to the amount of categories in Key Participants, I won't be classifying any data by this category anyway, plus it's only 1 datapoint. So I will likely fill with General public."
   ]
  },
  {
   "cell_type": "markdown",
   "id": "d0c7369c",
   "metadata": {},
   "source": [
    "#### Explore Outcomes"
   ]
  },
  {
   "cell_type": "code",
   "execution_count": 49,
   "id": "c9b54640",
   "metadata": {},
   "outputs": [],
   "source": [
    "#get the null value row for Outcomes\n",
    "#df[df[\"Outcomes\"].isnull()]"
   ]
  },
  {
   "cell_type": "markdown",
   "id": "795fabbd",
   "metadata": {},
   "source": [
    "The second null category that shouldn't be there is also Zimbabwe but a different entry. If it were the same entry, I would be much more likely to drop the datapoint. As it's different I would like to try and keep both otherwise face losing 2 Zimbabwe pieces of data. Let's see what other types of outcomes there were."
   ]
  },
  {
   "cell_type": "code",
   "execution_count": 50,
   "id": "f14dacdc",
   "metadata": {},
   "outputs": [],
   "source": [
    "#df[\"Outcomes\"].describe()"
   ]
  },
  {
   "cell_type": "markdown",
   "id": "ce54d55e",
   "metadata": {},
   "source": [
    "It looks like the most common value is that there was no change as a result of the protests which one could argue looks quite similar to NaN, in this case. I will likely fill this with No policy/leadership change."
   ]
  },
  {
   "cell_type": "markdown",
   "id": "93b5fc7e",
   "metadata": {},
   "source": [
    "#### Explore Capital city"
   ]
  },
  {
   "cell_type": "code",
   "execution_count": 51,
   "id": "3d15de8e",
   "metadata": {},
   "outputs": [],
   "source": [
    "#get the null value row for Captial city\n",
    "#df[df[\"Capital city\"].isnull()]"
   ]
  },
  {
   "cell_type": "markdown",
   "id": "4f4e55e0",
   "metadata": {},
   "source": [
    "I can simply google this and find that the capital city of Togo is Lomé."
   ]
  },
  {
   "cell_type": "markdown",
   "id": "ddbd3ada",
   "metadata": {},
   "source": [
    "## Data Cleaning"
   ]
  },
  {
   "cell_type": "markdown",
   "id": "819f2acd",
   "metadata": {},
   "source": [
    "### Fill the 3 investigated null values with appropriate values"
   ]
  },
  {
   "cell_type": "code",
   "execution_count": 52,
   "id": "2772665b",
   "metadata": {},
   "outputs": [],
   "source": [
    "df[\"Key Participants\"].fillna(df[\"Key Participants\"].describe().top, inplace = True)\n",
    "df[\"Outcomes\"].fillna(df[\"Outcomes\"].describe().top, inplace = True)\n",
    "df[\"Capital city\"].fillna(\"Lomé\", inplace = True)"
   ]
  },
  {
   "cell_type": "code",
   "execution_count": 53,
   "id": "2759b4b7",
   "metadata": {},
   "outputs": [],
   "source": [
    "#check these 3 nulls were populated\n",
    "#df.info()"
   ]
  },
  {
   "cell_type": "markdown",
   "id": "875a2224",
   "metadata": {},
   "source": [
    "### Replace the rest of the null values with binary values for each category"
   ]
  },
  {
   "cell_type": "code",
   "execution_count": 54,
   "id": "66ff5abf",
   "metadata": {},
   "outputs": [],
   "source": [
    "#replace X with 1 and NaN with 0\n",
    "df.replace({\"X\" : 1, np.nan : 0}, inplace = True)"
   ]
  },
  {
   "cell_type": "code",
   "execution_count": 55,
   "id": "22ea57e5",
   "metadata": {},
   "outputs": [],
   "source": [
    "#check we have populated the df with 1s and 0s for necessary categories\n",
    "#df.info()"
   ]
  },
  {
   "cell_type": "markdown",
   "id": "b1f27a62",
   "metadata": {},
   "source": [
    "All of the categories that contained null values mixed with \"X\" for False or True, now have numerical values instead."
   ]
  },
  {
   "cell_type": "markdown",
   "id": "d9c5324a",
   "metadata": {},
   "source": [
    "### Check for duplicates"
   ]
  },
  {
   "cell_type": "code",
   "execution_count": 56,
   "id": "c93b466f",
   "metadata": {},
   "outputs": [],
   "source": [
    "df.drop_duplicates(inplace = True)\n",
    "#df.info()"
   ]
  },
  {
   "cell_type": "markdown",
   "id": "bd1b0a55",
   "metadata": {},
   "source": [
    "There are still 329 entries so there were no duplicates in the dataset"
   ]
  },
  {
   "cell_type": "markdown",
   "id": "bf23fc96",
   "metadata": {},
   "source": [
    "### Clean Size category column"
   ]
  },
  {
   "cell_type": "code",
   "execution_count": 57,
   "id": "20f9469a",
   "metadata": {},
   "outputs": [
    {
     "data": {
      "text/plain": [
       "array(['Thousands', 'Tens of thousands', 'Hundreds of thousands',\n",
       "       'Over 1 million', 'Hundreds', 'Millions',\n",
       "       'Hundreds of of thousands', 'Unknown', 'Huundreds of thousands',\n",
       "       'Tens of millions', 'Thosuands'], dtype=object)"
      ]
     },
     "execution_count": 57,
     "metadata": {},
     "output_type": "execute_result"
    }
   ],
   "source": [
    "#check unique values in Size category\n",
    "df[\"Size category\"].unique()"
   ]
  },
  {
   "cell_type": "code",
   "execution_count": 58,
   "id": "2d908076",
   "metadata": {},
   "outputs": [],
   "source": [
    "#correct spelling mistakes and consolidate\n",
    "df[\"Size category\"] = df[\"Size category\"].replace({\"Huundreds of thousands\" : \"Hundreds of thousands\",\\\n",
    "            \"Thosuands\" : \"Thousands\",\\\n",
    "            \"Hundreds of of thousands\" : \"Hundreds of thousands\",\\\n",
    "            \"Over 1 million\" : \"Millions\"})"
   ]
  },
  {
   "cell_type": "code",
   "execution_count": 59,
   "id": "fa22061b",
   "metadata": {},
   "outputs": [],
   "source": [
    "#change to category dtype\n",
    "size_order = [\"Hundreds\",\n",
    "              \"Thousands\", \n",
    "              \"Tens of thousands\", \n",
    "              \"Hundreds of thousands\",\n",
    "              \"Millions\",\n",
    "              \"Tens of millions\",\n",
    "              \"Unknown\"]\n",
    "\n",
    "df[\"Size category\"] = df[\"Size category\"].astype(\"category\").cat.set_categories(size_order, ordered=True)"
   ]
  },
  {
   "cell_type": "markdown",
   "id": "608dcd3e",
   "metadata": {},
   "source": [
    "### Clean Duration column"
   ]
  },
  {
   "cell_type": "code",
   "execution_count": 60,
   "id": "352178f5",
   "metadata": {
    "scrolled": true
   },
   "outputs": [],
   "source": [
    "#df[\"Start Date\"].unique()"
   ]
  },
  {
   "cell_type": "code",
   "execution_count": 61,
   "id": "8df03a9d",
   "metadata": {},
   "outputs": [],
   "source": [
    "df[\"Start Date\"] = df[\"Start Date\"].replace(\"Feb-2018\", \"Feb-18\")"
   ]
  },
  {
   "cell_type": "code",
   "execution_count": 62,
   "id": "78c9523f",
   "metadata": {},
   "outputs": [],
   "source": [
    "#df[\"Duration\"].unique()"
   ]
  },
  {
   "cell_type": "code",
   "execution_count": 63,
   "id": "676d3fc2",
   "metadata": {},
   "outputs": [],
   "source": [
    "#define function to count days between 2 dates\n",
    "def days_between(d1, d2):\n",
    "    d1 = datetime.strptime(d1, \"%b-%y\")\n",
    "    d2 = datetime.strptime(d2, \"%b-%y\")\n",
    "    return abs((d2 - d1).days)\n",
    "\n",
    "#define function to clean the protest duration column\n",
    "def clean_duration(row):\n",
    "    n = row[\"Duration\"]\n",
    "    #set default values\n",
    "    year_days = 0\n",
    "    month_days = 0\n",
    "    week_days = 0\n",
    "    days = 0\n",
    "    #compile regex\n",
    "    yr = re.findall(r\"year[,s]*\", n)\n",
    "    mt = re.findall(r\"month[,s]*\", n)\n",
    "    wk = re.findall(r\"week[,s]*\", n)\n",
    "    dy = re.findall(r\"day[,s]*\", n)\n",
    "    #if entry is not \"Active\" and contains years, months, weeks or days, multiply amount by relevant day numbers\n",
    "    if row[\"Duration\"] != \"Active\":\n",
    "        if yr:\n",
    "            year_index = n.split(\" \").index(yr[0])\n",
    "            num_years_index = year_index - 1\n",
    "            year_days = int(n.split(\" \")[num_years_index]) * 365\n",
    "        if mt:\n",
    "            month_index = n.split(\" \").index(mt[0])\n",
    "            num_months_index = month_index - 1\n",
    "            month_days = int(n.split(\" \")[num_months_index]) * 30\n",
    "        if wk:\n",
    "            week_index = n.split(\" \").index(wk[0])\n",
    "            num_weeks_index = week_index - 1\n",
    "            week_days = int(n.split(\" \")[num_weeks_index]) * 7\n",
    "        if dy:\n",
    "            day_index = n.split(\" \").index(dy[0])\n",
    "            num_days_index = day_index - 1\n",
    "            days = int(n.split(\" \")[num_days_index])\n",
    "        #sum numbers to get a total amount of protest days    \n",
    "        res = year_days + month_days + week_days + days\n",
    "        return res\n",
    "    else:\n",
    "        #else will be \"Active\" so return number of days between start date and analysis start date\n",
    "        return days_between(row[\"Start Date\"], \"Jul-22\")\n",
    "\n",
    "\n",
    "#run cleaning functions\n",
    "df[\"Duration\"] = df.apply(lambda row: clean_duration(row), axis = 1)\n",
    "df.rename(columns = {\"Duration\" : \"Duration (Days)\"}, inplace = True)"
   ]
  },
  {
   "cell_type": "markdown",
   "id": "500431d1",
   "metadata": {},
   "source": [
    "### Clean Freedom Rating column"
   ]
  },
  {
   "cell_type": "code",
   "execution_count": 64,
   "id": "903006d0",
   "metadata": {},
   "outputs": [
    {
     "data": {
      "text/plain": [
       "array(['Free', 'Partly free', 'Not free', 'Partly freee'], dtype=object)"
      ]
     },
     "execution_count": 64,
     "metadata": {},
     "output_type": "execute_result"
    }
   ],
   "source": [
    "#rename column name\n",
    "df.rename(columns={\"Freedom Rating (Status)\":\"Freedom Rating\"}, inplace = True)\n",
    "#check unique values\n",
    "df[\"Freedom Rating\"].unique()"
   ]
  },
  {
   "cell_type": "code",
   "execution_count": 65,
   "id": "3d472733",
   "metadata": {},
   "outputs": [],
   "source": [
    "#replace misspelled value\n",
    "df[\"Freedom Rating\"] = df[\"Freedom Rating\"].replace({\"Partly freee\":\"Partly free\"})"
   ]
  },
  {
   "cell_type": "code",
   "execution_count": 66,
   "id": "a88904d6",
   "metadata": {},
   "outputs": [],
   "source": [
    "#change to category type\n",
    "freedom_order = [\n",
    "    \"Free\",\n",
    "    \"Partly free\",\n",
    "    \"Not free\"\n",
    "]\n",
    "\n",
    "df[\"Freedom Rating\"] = df[\"Freedom Rating\"].astype(\"category\").cat.set_categories(freedom_order, ordered=True)"
   ]
  },
  {
   "cell_type": "markdown",
   "id": "2b2247de",
   "metadata": {},
   "source": [
    "## Explore Data"
   ]
  },
  {
   "cell_type": "code",
   "execution_count": 67,
   "id": "0c64e6f6",
   "metadata": {},
   "outputs": [
    {
     "data": {
      "text/html": [
       "<div>\n",
       "<style scoped>\n",
       "    .dataframe tbody tr th:only-of-type {\n",
       "        vertical-align: middle;\n",
       "    }\n",
       "\n",
       "    .dataframe tbody tr th {\n",
       "        vertical-align: top;\n",
       "    }\n",
       "\n",
       "    .dataframe thead th {\n",
       "        text-align: right;\n",
       "    }\n",
       "</style>\n",
       "<table border=\"1\" class=\"dataframe\">\n",
       "  <thead>\n",
       "    <tr style=\"text-align: right;\">\n",
       "      <th></th>\n",
       "      <th>Country</th>\n",
       "      <th>Protest Name</th>\n",
       "      <th>Start Date</th>\n",
       "      <th>Freedom Rating</th>\n",
       "      <th>Triggers</th>\n",
       "      <th>Motivations</th>\n",
       "      <th>Peak Size</th>\n",
       "      <th>Key Participants</th>\n",
       "      <th>Duration (Days)</th>\n",
       "      <th>Outcomes</th>\n",
       "      <th>...</th>\n",
       "      <th>Economic motivation?</th>\n",
       "      <th>Political motivation?</th>\n",
       "      <th>Corruption motivation?</th>\n",
       "      <th>Size category</th>\n",
       "      <th>Protests with a significant outcome</th>\n",
       "      <th>Large protests (Over 100,000 protesting)</th>\n",
       "      <th>Violent government response</th>\n",
       "      <th>Long protests (more than 3 months)</th>\n",
       "      <th>Coronavirus-related protests</th>\n",
       "      <th>Capital city</th>\n",
       "    </tr>\n",
       "  </thead>\n",
       "  <tbody>\n",
       "    <tr>\n",
       "      <th>count</th>\n",
       "      <td>329</td>\n",
       "      <td>329</td>\n",
       "      <td>329</td>\n",
       "      <td>329</td>\n",
       "      <td>329</td>\n",
       "      <td>329</td>\n",
       "      <td>329</td>\n",
       "      <td>329</td>\n",
       "      <td>329.000000</td>\n",
       "      <td>329</td>\n",
       "      <td>...</td>\n",
       "      <td>329.000000</td>\n",
       "      <td>329.000000</td>\n",
       "      <td>329.000000</td>\n",
       "      <td>329</td>\n",
       "      <td>329.000000</td>\n",
       "      <td>329.000000</td>\n",
       "      <td>329.000000</td>\n",
       "      <td>329.000000</td>\n",
       "      <td>329.000000</td>\n",
       "      <td>329</td>\n",
       "    </tr>\n",
       "    <tr>\n",
       "      <th>unique</th>\n",
       "      <td>126</td>\n",
       "      <td>263</td>\n",
       "      <td>65</td>\n",
       "      <td>3</td>\n",
       "      <td>327</td>\n",
       "      <td>322</td>\n",
       "      <td>53</td>\n",
       "      <td>174</td>\n",
       "      <td>NaN</td>\n",
       "      <td>119</td>\n",
       "      <td>...</td>\n",
       "      <td>NaN</td>\n",
       "      <td>NaN</td>\n",
       "      <td>NaN</td>\n",
       "      <td>7</td>\n",
       "      <td>NaN</td>\n",
       "      <td>NaN</td>\n",
       "      <td>NaN</td>\n",
       "      <td>NaN</td>\n",
       "      <td>NaN</td>\n",
       "      <td>125</td>\n",
       "    </tr>\n",
       "    <tr>\n",
       "      <th>top</th>\n",
       "      <td>France</td>\n",
       "      <td>Corruption protests</td>\n",
       "      <td>Oct-19</td>\n",
       "      <td>Partly free</td>\n",
       "      <td>Ongoing pandemic-related restrictions.</td>\n",
       "      <td>Frustration with ongoing coronavirus restricti...</td>\n",
       "      <td>&gt;1,000</td>\n",
       "      <td>General public.</td>\n",
       "      <td>NaN</td>\n",
       "      <td>No policy/leadership change in response to the...</td>\n",
       "      <td>...</td>\n",
       "      <td>NaN</td>\n",
       "      <td>NaN</td>\n",
       "      <td>NaN</td>\n",
       "      <td>Thousands</td>\n",
       "      <td>NaN</td>\n",
       "      <td>NaN</td>\n",
       "      <td>NaN</td>\n",
       "      <td>NaN</td>\n",
       "      <td>NaN</td>\n",
       "      <td>Paris</td>\n",
       "    </tr>\n",
       "    <tr>\n",
       "      <th>freq</th>\n",
       "      <td>11</td>\n",
       "      <td>9</td>\n",
       "      <td>16</td>\n",
       "      <td>118</td>\n",
       "      <td>2</td>\n",
       "      <td>4</td>\n",
       "      <td>107</td>\n",
       "      <td>127</td>\n",
       "      <td>NaN</td>\n",
       "      <td>84</td>\n",
       "      <td>...</td>\n",
       "      <td>NaN</td>\n",
       "      <td>NaN</td>\n",
       "      <td>NaN</td>\n",
       "      <td>154</td>\n",
       "      <td>NaN</td>\n",
       "      <td>NaN</td>\n",
       "      <td>NaN</td>\n",
       "      <td>NaN</td>\n",
       "      <td>NaN</td>\n",
       "      <td>11</td>\n",
       "    </tr>\n",
       "    <tr>\n",
       "      <th>mean</th>\n",
       "      <td>NaN</td>\n",
       "      <td>NaN</td>\n",
       "      <td>NaN</td>\n",
       "      <td>NaN</td>\n",
       "      <td>NaN</td>\n",
       "      <td>NaN</td>\n",
       "      <td>NaN</td>\n",
       "      <td>NaN</td>\n",
       "      <td>108.537994</td>\n",
       "      <td>NaN</td>\n",
       "      <td>...</td>\n",
       "      <td>0.355623</td>\n",
       "      <td>0.869301</td>\n",
       "      <td>0.200608</td>\n",
       "      <td>NaN</td>\n",
       "      <td>0.300912</td>\n",
       "      <td>0.151976</td>\n",
       "      <td>0.273556</td>\n",
       "      <td>0.243161</td>\n",
       "      <td>0.145897</td>\n",
       "      <td>NaN</td>\n",
       "    </tr>\n",
       "    <tr>\n",
       "      <th>std</th>\n",
       "      <td>NaN</td>\n",
       "      <td>NaN</td>\n",
       "      <td>NaN</td>\n",
       "      <td>NaN</td>\n",
       "      <td>NaN</td>\n",
       "      <td>NaN</td>\n",
       "      <td>NaN</td>\n",
       "      <td>NaN</td>\n",
       "      <td>173.750643</td>\n",
       "      <td>NaN</td>\n",
       "      <td>...</td>\n",
       "      <td>0.479431</td>\n",
       "      <td>0.337584</td>\n",
       "      <td>0.401065</td>\n",
       "      <td>NaN</td>\n",
       "      <td>0.459353</td>\n",
       "      <td>0.359544</td>\n",
       "      <td>0.446463</td>\n",
       "      <td>0.429645</td>\n",
       "      <td>0.353540</td>\n",
       "      <td>NaN</td>\n",
       "    </tr>\n",
       "    <tr>\n",
       "      <th>min</th>\n",
       "      <td>NaN</td>\n",
       "      <td>NaN</td>\n",
       "      <td>NaN</td>\n",
       "      <td>NaN</td>\n",
       "      <td>NaN</td>\n",
       "      <td>NaN</td>\n",
       "      <td>NaN</td>\n",
       "      <td>NaN</td>\n",
       "      <td>1.000000</td>\n",
       "      <td>NaN</td>\n",
       "      <td>...</td>\n",
       "      <td>0.000000</td>\n",
       "      <td>0.000000</td>\n",
       "      <td>0.000000</td>\n",
       "      <td>NaN</td>\n",
       "      <td>0.000000</td>\n",
       "      <td>0.000000</td>\n",
       "      <td>0.000000</td>\n",
       "      <td>0.000000</td>\n",
       "      <td>0.000000</td>\n",
       "      <td>NaN</td>\n",
       "    </tr>\n",
       "    <tr>\n",
       "      <th>25%</th>\n",
       "      <td>NaN</td>\n",
       "      <td>NaN</td>\n",
       "      <td>NaN</td>\n",
       "      <td>NaN</td>\n",
       "      <td>NaN</td>\n",
       "      <td>NaN</td>\n",
       "      <td>NaN</td>\n",
       "      <td>NaN</td>\n",
       "      <td>7.000000</td>\n",
       "      <td>NaN</td>\n",
       "      <td>...</td>\n",
       "      <td>0.000000</td>\n",
       "      <td>1.000000</td>\n",
       "      <td>0.000000</td>\n",
       "      <td>NaN</td>\n",
       "      <td>0.000000</td>\n",
       "      <td>0.000000</td>\n",
       "      <td>0.000000</td>\n",
       "      <td>0.000000</td>\n",
       "      <td>0.000000</td>\n",
       "      <td>NaN</td>\n",
       "    </tr>\n",
       "    <tr>\n",
       "      <th>50%</th>\n",
       "      <td>NaN</td>\n",
       "      <td>NaN</td>\n",
       "      <td>NaN</td>\n",
       "      <td>NaN</td>\n",
       "      <td>NaN</td>\n",
       "      <td>NaN</td>\n",
       "      <td>NaN</td>\n",
       "      <td>NaN</td>\n",
       "      <td>30.000000</td>\n",
       "      <td>NaN</td>\n",
       "      <td>...</td>\n",
       "      <td>0.000000</td>\n",
       "      <td>1.000000</td>\n",
       "      <td>0.000000</td>\n",
       "      <td>NaN</td>\n",
       "      <td>0.000000</td>\n",
       "      <td>0.000000</td>\n",
       "      <td>0.000000</td>\n",
       "      <td>0.000000</td>\n",
       "      <td>0.000000</td>\n",
       "      <td>NaN</td>\n",
       "    </tr>\n",
       "    <tr>\n",
       "      <th>75%</th>\n",
       "      <td>NaN</td>\n",
       "      <td>NaN</td>\n",
       "      <td>NaN</td>\n",
       "      <td>NaN</td>\n",
       "      <td>NaN</td>\n",
       "      <td>NaN</td>\n",
       "      <td>NaN</td>\n",
       "      <td>NaN</td>\n",
       "      <td>120.000000</td>\n",
       "      <td>NaN</td>\n",
       "      <td>...</td>\n",
       "      <td>1.000000</td>\n",
       "      <td>1.000000</td>\n",
       "      <td>0.000000</td>\n",
       "      <td>NaN</td>\n",
       "      <td>1.000000</td>\n",
       "      <td>0.000000</td>\n",
       "      <td>1.000000</td>\n",
       "      <td>0.000000</td>\n",
       "      <td>0.000000</td>\n",
       "      <td>NaN</td>\n",
       "    </tr>\n",
       "    <tr>\n",
       "      <th>max</th>\n",
       "      <td>NaN</td>\n",
       "      <td>NaN</td>\n",
       "      <td>NaN</td>\n",
       "      <td>NaN</td>\n",
       "      <td>NaN</td>\n",
       "      <td>NaN</td>\n",
       "      <td>NaN</td>\n",
       "      <td>NaN</td>\n",
       "      <td>1004.000000</td>\n",
       "      <td>NaN</td>\n",
       "      <td>...</td>\n",
       "      <td>1.000000</td>\n",
       "      <td>1.000000</td>\n",
       "      <td>1.000000</td>\n",
       "      <td>NaN</td>\n",
       "      <td>1.000000</td>\n",
       "      <td>1.000000</td>\n",
       "      <td>1.000000</td>\n",
       "      <td>1.000000</td>\n",
       "      <td>1.000000</td>\n",
       "      <td>NaN</td>\n",
       "    </tr>\n",
       "  </tbody>\n",
       "</table>\n",
       "<p>11 rows × 21 columns</p>\n",
       "</div>"
      ],
      "text/plain": [
       "       Country         Protest Name Start Date Freedom Rating  \\\n",
       "count      329                  329        329            329   \n",
       "unique     126                  263         65              3   \n",
       "top     France  Corruption protests     Oct-19    Partly free   \n",
       "freq        11                    9         16            118   \n",
       "mean       NaN                  NaN        NaN            NaN   \n",
       "std        NaN                  NaN        NaN            NaN   \n",
       "min        NaN                  NaN        NaN            NaN   \n",
       "25%        NaN                  NaN        NaN            NaN   \n",
       "50%        NaN                  NaN        NaN            NaN   \n",
       "75%        NaN                  NaN        NaN            NaN   \n",
       "max        NaN                  NaN        NaN            NaN   \n",
       "\n",
       "                                      Triggers  \\\n",
       "count                                      329   \n",
       "unique                                     327   \n",
       "top     Ongoing pandemic-related restrictions.   \n",
       "freq                                         2   \n",
       "mean                                       NaN   \n",
       "std                                        NaN   \n",
       "min                                        NaN   \n",
       "25%                                        NaN   \n",
       "50%                                        NaN   \n",
       "75%                                        NaN   \n",
       "max                                        NaN   \n",
       "\n",
       "                                              Motivations Peak Size  \\\n",
       "count                                                 329       329   \n",
       "unique                                                322        53   \n",
       "top     Frustration with ongoing coronavirus restricti...    >1,000   \n",
       "freq                                                    4       107   \n",
       "mean                                                  NaN       NaN   \n",
       "std                                                   NaN       NaN   \n",
       "min                                                   NaN       NaN   \n",
       "25%                                                   NaN       NaN   \n",
       "50%                                                   NaN       NaN   \n",
       "75%                                                   NaN       NaN   \n",
       "max                                                   NaN       NaN   \n",
       "\n",
       "       Key Participants  Duration (Days)  \\\n",
       "count               329       329.000000   \n",
       "unique              174              NaN   \n",
       "top     General public.              NaN   \n",
       "freq                127              NaN   \n",
       "mean                NaN       108.537994   \n",
       "std                 NaN       173.750643   \n",
       "min                 NaN         1.000000   \n",
       "25%                 NaN         7.000000   \n",
       "50%                 NaN        30.000000   \n",
       "75%                 NaN       120.000000   \n",
       "max                 NaN      1004.000000   \n",
       "\n",
       "                                                 Outcomes  ...  \\\n",
       "count                                                 329  ...   \n",
       "unique                                                119  ...   \n",
       "top     No policy/leadership change in response to the...  ...   \n",
       "freq                                                   84  ...   \n",
       "mean                                                  NaN  ...   \n",
       "std                                                   NaN  ...   \n",
       "min                                                   NaN  ...   \n",
       "25%                                                   NaN  ...   \n",
       "50%                                                   NaN  ...   \n",
       "75%                                                   NaN  ...   \n",
       "max                                                   NaN  ...   \n",
       "\n",
       "        Economic motivation?  Political motivation?  Corruption motivation?  \\\n",
       "count             329.000000             329.000000              329.000000   \n",
       "unique                   NaN                    NaN                     NaN   \n",
       "top                      NaN                    NaN                     NaN   \n",
       "freq                     NaN                    NaN                     NaN   \n",
       "mean                0.355623               0.869301                0.200608   \n",
       "std                 0.479431               0.337584                0.401065   \n",
       "min                 0.000000               0.000000                0.000000   \n",
       "25%                 0.000000               1.000000                0.000000   \n",
       "50%                 0.000000               1.000000                0.000000   \n",
       "75%                 1.000000               1.000000                0.000000   \n",
       "max                 1.000000               1.000000                1.000000   \n",
       "\n",
       "        Size category Protests with a significant outcome  \\\n",
       "count             329                          329.000000   \n",
       "unique              7                                 NaN   \n",
       "top         Thousands                                 NaN   \n",
       "freq              154                                 NaN   \n",
       "mean              NaN                            0.300912   \n",
       "std               NaN                            0.459353   \n",
       "min               NaN                            0.000000   \n",
       "25%               NaN                            0.000000   \n",
       "50%               NaN                            0.000000   \n",
       "75%               NaN                            1.000000   \n",
       "max               NaN                            1.000000   \n",
       "\n",
       "        Large protests (Over 100,000 protesting)  Violent government response  \\\n",
       "count                                 329.000000                   329.000000   \n",
       "unique                                       NaN                          NaN   \n",
       "top                                          NaN                          NaN   \n",
       "freq                                         NaN                          NaN   \n",
       "mean                                    0.151976                     0.273556   \n",
       "std                                     0.359544                     0.446463   \n",
       "min                                     0.000000                     0.000000   \n",
       "25%                                     0.000000                     0.000000   \n",
       "50%                                     0.000000                     0.000000   \n",
       "75%                                     0.000000                     1.000000   \n",
       "max                                     1.000000                     1.000000   \n",
       "\n",
       "        Long protests (more than 3 months)  Coronavirus-related protests  \\\n",
       "count                           329.000000                    329.000000   \n",
       "unique                                 NaN                           NaN   \n",
       "top                                    NaN                           NaN   \n",
       "freq                                   NaN                           NaN   \n",
       "mean                              0.243161                      0.145897   \n",
       "std                               0.429645                      0.353540   \n",
       "min                               0.000000                      0.000000   \n",
       "25%                               0.000000                      0.000000   \n",
       "50%                               0.000000                      0.000000   \n",
       "75%                               0.000000                      0.000000   \n",
       "max                               1.000000                      1.000000   \n",
       "\n",
       "        Capital city  \n",
       "count            329  \n",
       "unique           125  \n",
       "top            Paris  \n",
       "freq              11  \n",
       "mean             NaN  \n",
       "std              NaN  \n",
       "min              NaN  \n",
       "25%              NaN  \n",
       "50%              NaN  \n",
       "75%              NaN  \n",
       "max              NaN  \n",
       "\n",
       "[11 rows x 21 columns]"
      ]
     },
     "execution_count": 67,
     "metadata": {},
     "output_type": "execute_result"
    }
   ],
   "source": [
    "df.describe(include = \"all\")"
   ]
  },
  {
   "cell_type": "markdown",
   "id": "b2eceb16",
   "metadata": {},
   "source": [
    "The only column with numerical values is now the Duration (Days) column. The rest are either Categorical, nominal or binary categorical. "
   ]
  },
  {
   "cell_type": "markdown",
   "id": "20fe9f13",
   "metadata": {},
   "source": [
    "### Size Category by Number of Protests"
   ]
  },
  {
   "cell_type": "code",
   "execution_count": 68,
   "id": "1580792b",
   "metadata": {
    "scrolled": false
   },
   "outputs": [
    {
     "data": {
      "image/png": "[encoded data removed]",
      "text/plain": [
       "<Figure size 864x576 with 1 Axes>"
      ]
     },
     "metadata": {
      "needs_background": "light"
     },
     "output_type": "display_data"
    }
   ],
   "source": [
    "fig = plt.figure(figsize = (12,8))\n",
    "sns.countplot(data = df, y = df[\"Size category\"], palette = \"Paired\")\n",
    "plt.title(\"Number of Protests in Each Size Category\")\n",
    "plt.xlabel(\"Number of Protests\")\n",
    "plt.show()"
   ]
  },
  {
   "cell_type": "markdown",
   "id": "d05d6058",
   "metadata": {},
   "source": [
    "### Size Category by Freedom Rating and Number of Protests"
   ]
  },
  {
   "cell_type": "code",
   "execution_count": 69,
   "id": "276627f3",
   "metadata": {
    "scrolled": true
   },
   "outputs": [],
   "source": [
    "#isolate columns\n",
    "size_counts = df[[\"Freedom Rating\", \"Size category\"]]\n",
    "#get dummies for Size category and group by Freedom Rating\n",
    "size_counts = pd.get_dummies(size_counts, columns = [\"Size category\"], prefix = \"dmy\").groupby(\"Freedom Rating\").sum().reset_index()\n",
    "#melt to long form for graphing\n",
    "size_counts = size_counts.melt(id_vars=\"Freedom Rating\")"
   ]
  },
  {
   "cell_type": "code",
   "execution_count": 117,
   "id": "b55530c7",
   "metadata": {
    "scrolled": false
   },
   "outputs": [
    {
     "data": {
      "image/png": "[encoded data removed]",
      "text/plain": [
       "<Figure size 720x576 with 1 Axes>"
      ]
     },
     "metadata": {},
     "output_type": "display_data"
    }
   ],
   "source": [
    "fig = plt.figure(figsize = (10, 8))\n",
    "ax = sns.barplot(data = size_counts, \n",
    "                 y = \"variable\", \n",
    "                 x = \"value\", \n",
    "                 hue = \"Freedom Rating\", \n",
    "                 palette = \"Paired\")\n",
    "\n",
    "yticks = [\"Hundreds\", \n",
    "          \"Thousands\", \n",
    "          \"Tens of Thousands\", \n",
    "          \"Hundreds of Thousands\", \n",
    "          \"Millions\", \n",
    "          \"Tens of Millions\", \n",
    "          \"Unknown\"]\n",
    "\n",
    "plt.xlabel(\"Number of Protests\")\n",
    "plt.ylabel(\"Size Category\")\n",
    "plt.title(\"Number of Protests by Size Category and Freedom Rating\")\n",
    "ax.set_yticklabels(yticks)\n",
    "plt.legend(loc = \"lower right\")\n",
    "plt.savefig(\"Protest Size Category by Freedom Rating\", bbox_inches='tight')\n",
    "plt.show()"
   ]
  },
  {
   "cell_type": "markdown",
   "id": "40c6b8f7",
   "metadata": {},
   "source": [
    "### Distribution of Duration"
   ]
  },
  {
   "cell_type": "code",
   "execution_count": 71,
   "id": "ee772415",
   "metadata": {
    "scrolled": false
   },
   "outputs": [
    {
     "data": {
      "image/png": "[encoded data removed]",
      "text/plain": [
       "<Figure size 720x576 with 1 Axes>"
      ]
     },
     "metadata": {
      "needs_background": "light"
     },
     "output_type": "display_data"
    }
   ],
   "source": [
    "#plot histogram of protest durations\n",
    "fig = plt.figure(figsize = (10, 8))\n",
    "sns.histplot(df[\"Duration (Days)\"])\n",
    "plt.title(\"Distribution of Protest Duration (Days)\")\n",
    "plt.show()"
   ]
  },
  {
   "cell_type": "markdown",
   "id": "5dd97710",
   "metadata": {},
   "source": [
    "#### Find outliers"
   ]
  },
  {
   "cell_type": "code",
   "execution_count": 72,
   "id": "fa4a5a87",
   "metadata": {
    "scrolled": false
   },
   "outputs": [
    {
     "data": {
      "image/png": "[encoded data removed]",
      "text/plain": [
       "<Figure size 432x288 with 1 Axes>"
      ]
     },
     "metadata": {
      "needs_background": "light"
     },
     "output_type": "display_data"
    }
   ],
   "source": [
    "#plot boxplot to examine median, IQR and outliers\n",
    "sns.boxplot(data = df[\"Duration (Days)\"])\n",
    "plt.xlabel(\"Protests\")\n",
    "plt.ylabel(\"Number of Days\")\n",
    "plt.title(\"Boxplot Distribution of Protest Duration (Days)\")\n",
    "plt.show()"
   ]
  },
  {
   "cell_type": "markdown",
   "id": "a450ab12",
   "metadata": {},
   "source": [
    "We can see the outliers of the duration column on the above boxplot. \n",
    "\n",
    "These could be affect some of the analysis I want to do on the Duration of protests vs Freedom Rating, so I will cap the outliers at 95th percentile. This will also retain the integrity of the column \"Long protests (over 3 months)\"and the data within it."
   ]
  },
  {
   "cell_type": "markdown",
   "id": "98927066",
   "metadata": {},
   "source": [
    "#### Cap Outliers to 95th percentile"
   ]
  },
  {
   "cell_type": "code",
   "execution_count": 73,
   "id": "6e1be9ed",
   "metadata": {},
   "outputs": [],
   "source": [
    "#define 95th percentile\n",
    "ninty_fifth_pct = np.percentile(df[\"Duration (Days)\"], 95)\n",
    "\n",
    "#change data to be capped at 95th percentile\n",
    "df[\"Duration (Days)\"] = np.where(df[\"Duration (Days)\"] > ninty_fifth_pct, ninty_fifth_pct, df[\"Duration (Days)\"])"
   ]
  },
  {
   "cell_type": "markdown",
   "id": "fab42cc5",
   "metadata": {},
   "source": [
    "#### Plot new distribution"
   ]
  },
  {
   "cell_type": "code",
   "execution_count": 74,
   "id": "822b7e53",
   "metadata": {
    "scrolled": false
   },
   "outputs": [
    {
     "data": {
      "image/png": "[encoded data removed]",
      "text/plain": [
       "<Figure size 720x576 with 1 Axes>"
      ]
     },
     "metadata": {
      "needs_background": "light"
     },
     "output_type": "display_data"
    }
   ],
   "source": [
    "fig = plt.figure(figsize = (10, 8))\n",
    "sns.histplot(df[\"Duration (Days)\"])\n",
    "plt.title(\"Distribution of Protest Duration (Days)\")\n",
    "plt.savefig(\"Distribution of Protest Duration\")\n",
    "plt.show()"
   ]
  },
  {
   "cell_type": "code",
   "execution_count": 115,
   "id": "df42a2ab",
   "metadata": {
    "scrolled": true
   },
   "outputs": [
    {
     "data": {
      "text/plain": [
       "count    329.000000\n",
       "mean     100.151976\n",
       "std      145.085534\n",
       "min        1.000000\n",
       "25%        7.000000\n",
       "50%       30.000000\n",
       "75%      120.000000\n",
       "max      480.000000\n",
       "Name: Duration (Days), dtype: float64"
      ]
     },
     "execution_count": 115,
     "metadata": {},
     "output_type": "execute_result"
    }
   ],
   "source": [
    "#find median duration + other summary stats\n",
    "df[\"Duration (Days)\"].describe()"
   ]
  },
  {
   "cell_type": "markdown",
   "id": "dc96c76e",
   "metadata": {},
   "source": [
    "### Protest Duration by Freedom Rating"
   ]
  },
  {
   "cell_type": "code",
   "execution_count": 76,
   "id": "395afce4",
   "metadata": {},
   "outputs": [
    {
     "data": {
      "image/png": "[encoded data removed]",
      "text/plain": [
       "<Figure size 720x576 with 1 Axes>"
      ]
     },
     "metadata": {
      "needs_background": "light"
     },
     "output_type": "display_data"
    }
   ],
   "source": [
    "plt.figure(figsize = (10, 8))\n",
    "sns.boxplot (data = df, \n",
    "             x = \"Freedom Rating\", \n",
    "             y = \"Duration (Days)\", \n",
    "             showfliers = True, \n",
    "             palette = \"Paired\")\n",
    "plt.title(\"Distribution of Protest Duration by Freedom Rating\")\n",
    "plt.savefig(\"Protest Duration by Freedom Rating\")\n",
    "plt.show()"
   ]
  },
  {
   "cell_type": "markdown",
   "id": "fbcb883b",
   "metadata": {},
   "source": [
    "#### Get summary statistics for Freedom Rating categories"
   ]
  },
  {
   "cell_type": "code",
   "execution_count": 77,
   "id": "fdd7defb",
   "metadata": {},
   "outputs": [
    {
     "name": "stdout",
     "output_type": "stream",
     "text": [
      "Free: Sum = 109 IQR = 207.0\n",
      "Partly free: Sum = 118 IQR = 113.0\n",
      "Not free: Sum = 102 IQR = 83.0\n"
     ]
    }
   ],
   "source": [
    "#loop through each category in Freedom Rating and print summary statistics\n",
    "for n in df[\"Freedom Rating\"].unique():\n",
    "    print(n + \":\", \n",
    "          f\"Sum = {len(df[df['Freedom Rating'] == n]['Duration (Days)'])}\",\n",
    "          f\"IQR = {(np.percentile(df[df['Freedom Rating'] == n]['Duration (Days)'], 75)) - (np.percentile(df[df['Freedom Rating'] == n]['Duration (Days)'], 25))}\"\n",
    "          )"
   ]
  },
  {
   "cell_type": "markdown",
   "id": "006d2edd",
   "metadata": {},
   "source": [
    "#### Findings"
   ]
  },
  {
   "cell_type": "markdown",
   "id": "f8e797ef",
   "metadata": {},
   "source": [
    "There are roughly the same amount of protests in each category.\n",
    "\n",
    "We can see by the distribution of the 3 categories: Free, Partly free and Not free, that as countries become classed as less free - the protests reported durations are generally shorter."
   ]
  },
  {
   "cell_type": "markdown",
   "id": "c74ac8a4",
   "metadata": {},
   "source": [
    "### Motivation vs Freedom Rating"
   ]
  },
  {
   "cell_type": "code",
   "execution_count": 78,
   "id": "f6157685",
   "metadata": {},
   "outputs": [],
   "source": [
    "#group df by freedom rating\n",
    "freedom_counts = df.groupby(\"Freedom Rating\").sum(\"Country\")\n",
    "#melt new df for graphing\n",
    "motivation_counts = freedom_counts[[\"Economic motivation?\",\n",
    "                                    \"Political motivation?\",\n",
    "                                    \"Corruption motivation?\",\n",
    "                                    \"Coronavirus-related protests\"]].reset_index().melt(id_vars = \"Freedom Rating\")\n",
    "\n",
    "#motivation_counts"
   ]
  },
  {
   "cell_type": "code",
   "execution_count": 79,
   "id": "44b1c01a",
   "metadata": {
    "scrolled": false
   },
   "outputs": [
    {
     "data": {
      "image/png": "[encoded data removed]",
      "text/plain": [
       "<Figure size 720x576 with 1 Axes>"
      ]
     },
     "metadata": {
      "needs_background": "light"
     },
     "output_type": "display_data"
    }
   ],
   "source": [
    "xticks = [\"Economic motivation\",\n",
    "          \"Political motivation\",\n",
    "          \"Corruption motivation\",\n",
    "          \"Coronavirus-related protests\"]\n",
    "\n",
    "fig = plt.figure(figsize = (10, 8))\n",
    "ax = plt.subplot()\n",
    "sns.barplot(data = motivation_counts, \n",
    "            x = \"variable\", \n",
    "            y = \"value\", \n",
    "            hue = \"Freedom Rating\", \n",
    "            palette = \"Paired\")\n",
    "plt.xlabel(\"Motivation\")\n",
    "plt.ylabel(\"Number of Protests\")\n",
    "plt.title(\"Protest Motivation by Freedom Rating\")\n",
    "ax.set_xticklabels(xticks)\n",
    "plt.savefig(\"Protest motivation by freedom rating\")\n",
    "plt.show()"
   ]
  },
  {
   "cell_type": "markdown",
   "id": "59e53d59",
   "metadata": {},
   "source": [
    "#### Findings"
   ]
  },
  {
   "cell_type": "markdown",
   "id": "3b298835",
   "metadata": {},
   "source": [
    "Interestingly, Coronavirus related protests seem to go against the trend with free countries having the highest number of protests."
   ]
  },
  {
   "cell_type": "markdown",
   "id": "a9ef8e82",
   "metadata": {},
   "source": [
    "### Significant Outcomes"
   ]
  },
  {
   "cell_type": "markdown",
   "id": "8f8077f4",
   "metadata": {},
   "source": [
    "Let's just check that significant outcomes are what I think they are - positive results to the protests"
   ]
  },
  {
   "cell_type": "code",
   "execution_count": 80,
   "id": "ae278341",
   "metadata": {},
   "outputs": [],
   "source": [
    "#write function to display all significant outcomes \n",
    "def find_significant_outcomes(s):\n",
    "    lst = list(s)\n",
    "    for n in s:\n",
    "        negative = re.findall(r\"No policy\", str(n))\n",
    "        if negative:\n",
    "            lst.remove(n)\n",
    "    for i in lst:\n",
    "        print(i)"
   ]
  },
  {
   "cell_type": "code",
   "execution_count": 81,
   "id": "a19aa4c7",
   "metadata": {},
   "outputs": [],
   "source": [
    "#find_significant_outcomes(df.Outcomes)"
   ]
  },
  {
   "cell_type": "markdown",
   "id": "dcb1e6f2",
   "metadata": {},
   "source": [
    "It looks like all significant outcomes are when the protestors get what they want.\n",
    "\n",
    "Now to find significant outcomes by motivation."
   ]
  },
  {
   "cell_type": "code",
   "execution_count": 82,
   "id": "02fb0c31",
   "metadata": {},
   "outputs": [
    {
     "data": {
      "text/html": [
       "<div>\n",
       "<style scoped>\n",
       "    .dataframe tbody tr th:only-of-type {\n",
       "        vertical-align: middle;\n",
       "    }\n",
       "\n",
       "    .dataframe tbody tr th {\n",
       "        vertical-align: top;\n",
       "    }\n",
       "\n",
       "    .dataframe thead tr th {\n",
       "        text-align: left;\n",
       "    }\n",
       "</style>\n",
       "<table border=\"1\" class=\"dataframe\">\n",
       "  <thead>\n",
       "    <tr>\n",
       "      <th></th>\n",
       "      <th>variable</th>\n",
       "      <th colspan=\"2\" halign=\"left\">value</th>\n",
       "    </tr>\n",
       "    <tr>\n",
       "      <th>Protests with a significant outcome</th>\n",
       "      <th></th>\n",
       "      <th>0</th>\n",
       "      <th>1</th>\n",
       "    </tr>\n",
       "  </thead>\n",
       "  <tbody>\n",
       "    <tr>\n",
       "      <th>0</th>\n",
       "      <td>Coronavirus-related protests</td>\n",
       "      <td>37</td>\n",
       "      <td>11</td>\n",
       "    </tr>\n",
       "    <tr>\n",
       "      <th>1</th>\n",
       "      <td>Corruption motivation?</td>\n",
       "      <td>37</td>\n",
       "      <td>29</td>\n",
       "    </tr>\n",
       "    <tr>\n",
       "      <th>2</th>\n",
       "      <td>Economic motivation?</td>\n",
       "      <td>74</td>\n",
       "      <td>43</td>\n",
       "    </tr>\n",
       "    <tr>\n",
       "      <th>3</th>\n",
       "      <td>Political motivation?</td>\n",
       "      <td>206</td>\n",
       "      <td>80</td>\n",
       "    </tr>\n",
       "  </tbody>\n",
       "</table>\n",
       "</div>"
      ],
      "text/plain": [
       "                                                         variable value    \n",
       "Protests with a significant outcome                                   0   1\n",
       "0                                    Coronavirus-related protests    37  11\n",
       "1                                          Corruption motivation?    37  29\n",
       "2                                            Economic motivation?    74  43\n",
       "3                                           Political motivation?   206  80"
      ]
     },
     "execution_count": 82,
     "metadata": {},
     "output_type": "execute_result"
    }
   ],
   "source": [
    "#select required columns\n",
    "significant_outcomes = df[[\"Protests with a significant outcome\",\n",
    "                             \"Economic motivation?\",\n",
    "                             \"Political motivation?\",\n",
    "                             \"Corruption motivation?\",\n",
    "                             \"Coronavirus-related protests\"]]\n",
    "\n",
    "#group data by motivation and significant outcomes\n",
    "outcomes_motivation_df = significant_outcomes.melt(\n",
    "                                                id_vars = \"Protests with a significant outcome\"\n",
    "                                                ).groupby(\n",
    "                                                [\"Protests with a significant outcome\", \"variable\"]\n",
    "                                                ).sum().reset_index()\n",
    "\n",
    "\n",
    "#pivot table for graphing\n",
    "outcomes_motivation_df_pivot = outcomes_motivation_df.pivot(\n",
    "                                                        index = \"variable\", \n",
    "                                                        columns = \"Protests with a significant outcome\"\n",
    "                                                        ).reset_index()\n",
    "\n",
    "outcomes_motivation_df_pivot"
   ]
  },
  {
   "cell_type": "code",
   "execution_count": 83,
   "id": "cfc4e26e",
   "metadata": {},
   "outputs": [
    {
     "data": {
      "image/png": "[encoded data removed]",
      "text/plain": [
       "<Figure size 720x576 with 1 Axes>"
      ]
     },
     "metadata": {},
     "output_type": "display_data"
    }
   ],
   "source": [
    "#set tick labels\n",
    "motivations = [\"Coronavirus Related\", \"Corruption\", \"Economic\", \"Political\"]\n",
    "#plot horizontal bar graph\n",
    "sns.set_theme(palette = \"Paired\", style = \"white\")\n",
    "ax1 = plt.subplot()\n",
    "outcomes_motivation_df_pivot.plot(kind = \"barh\",\n",
    "                                  title = (\"Number of Protests by Motivation and Outcome\"),\n",
    "                                  ylabel = \"Num protests\",\n",
    "                                  xlabel = \"Motivation\",\n",
    "                                  yticks = [0, 1, 2, 3],\n",
    "                                  ax = ax1,\n",
    "                                  figsize = (10, 8),\n",
    "                                  stacked = True)\n",
    "ax1.set_yticklabels(motivations)\n",
    "plt.xlabel(\"Number of Protests\")\n",
    "plt.legend([\"Not Significant Outcome\", \"Significant Outcome\"])\n",
    "plt.savefig(\"Number of protests by motivation and outcome\", bbox_inches='tight')\n",
    "plt.show()"
   ]
  },
  {
   "cell_type": "markdown",
   "id": "a79876b2",
   "metadata": {},
   "source": [
    "#### Get figures for percentage of successful protests"
   ]
  },
  {
   "cell_type": "code",
   "execution_count": 84,
   "id": "5403aec7",
   "metadata": {
    "scrolled": false
   },
   "outputs": [
    {
     "data": {
      "text/html": [
       "<div>\n",
       "<style scoped>\n",
       "    .dataframe tbody tr th:only-of-type {\n",
       "        vertical-align: middle;\n",
       "    }\n",
       "\n",
       "    .dataframe tbody tr th {\n",
       "        vertical-align: top;\n",
       "    }\n",
       "\n",
       "    .dataframe thead tr th {\n",
       "        text-align: left;\n",
       "    }\n",
       "</style>\n",
       "<table border=\"1\" class=\"dataframe\">\n",
       "  <thead>\n",
       "    <tr>\n",
       "      <th></th>\n",
       "      <th>variable</th>\n",
       "      <th colspan=\"2\" halign=\"left\">value</th>\n",
       "      <th>% successful</th>\n",
       "    </tr>\n",
       "    <tr>\n",
       "      <th>Protests with a significant outcome</th>\n",
       "      <th></th>\n",
       "      <th>0</th>\n",
       "      <th>1</th>\n",
       "      <th></th>\n",
       "    </tr>\n",
       "  </thead>\n",
       "  <tbody>\n",
       "    <tr>\n",
       "      <th>0</th>\n",
       "      <td>Coronavirus-related protests</td>\n",
       "      <td>37</td>\n",
       "      <td>11</td>\n",
       "      <td>0.229167</td>\n",
       "    </tr>\n",
       "    <tr>\n",
       "      <th>1</th>\n",
       "      <td>Corruption motivation?</td>\n",
       "      <td>37</td>\n",
       "      <td>29</td>\n",
       "      <td>0.439394</td>\n",
       "    </tr>\n",
       "    <tr>\n",
       "      <th>2</th>\n",
       "      <td>Economic motivation?</td>\n",
       "      <td>74</td>\n",
       "      <td>43</td>\n",
       "      <td>0.367521</td>\n",
       "    </tr>\n",
       "    <tr>\n",
       "      <th>3</th>\n",
       "      <td>Political motivation?</td>\n",
       "      <td>206</td>\n",
       "      <td>80</td>\n",
       "      <td>0.279720</td>\n",
       "    </tr>\n",
       "  </tbody>\n",
       "</table>\n",
       "</div>"
      ],
      "text/plain": [
       "                                                         variable value      \\\n",
       "Protests with a significant outcome                                   0   1   \n",
       "0                                    Coronavirus-related protests    37  11   \n",
       "1                                          Corruption motivation?    37  29   \n",
       "2                                            Economic motivation?    74  43   \n",
       "3                                           Political motivation?   206  80   \n",
       "\n",
       "                                    % successful  \n",
       "Protests with a significant outcome               \n",
       "0                                       0.229167  \n",
       "1                                       0.439394  \n",
       "2                                       0.367521  \n",
       "3                                       0.279720  "
      ]
     },
     "execution_count": 84,
     "metadata": {},
     "output_type": "execute_result"
    }
   ],
   "source": [
    "outcomes_motivation_df_pivot[\"% successful\"] = outcomes_motivation_df_pivot[\"value\"][1] / outcomes_motivation_df_pivot[\"value\"].sum(axis = 1)\n",
    "\n",
    "outcomes_motivation_df_pivot"
   ]
  },
  {
   "cell_type": "markdown",
   "id": "978f1598",
   "metadata": {},
   "source": [
    "#### Significant Outcomes by Freedom Rating"
   ]
  },
  {
   "cell_type": "code",
   "execution_count": 85,
   "id": "840603ce",
   "metadata": {},
   "outputs": [],
   "source": [
    "#get significant outcomes count by freedom rating\n",
    "significant_freedom = pd.crosstab(df[\"Freedom Rating\"], \n",
    "                                  df[\"Protests with a significant outcome\"])"
   ]
  },
  {
   "cell_type": "code",
   "execution_count": 86,
   "id": "77598073",
   "metadata": {},
   "outputs": [
    {
     "data": {
      "text/html": [
       "<div>\n",
       "<style scoped>\n",
       "    .dataframe tbody tr th:only-of-type {\n",
       "        vertical-align: middle;\n",
       "    }\n",
       "\n",
       "    .dataframe tbody tr th {\n",
       "        vertical-align: top;\n",
       "    }\n",
       "\n",
       "    .dataframe thead th {\n",
       "        text-align: right;\n",
       "    }\n",
       "</style>\n",
       "<table border=\"1\" class=\"dataframe\">\n",
       "  <thead>\n",
       "    <tr style=\"text-align: right;\">\n",
       "      <th>Protests with a significant outcome</th>\n",
       "      <th>0</th>\n",
       "      <th>1</th>\n",
       "    </tr>\n",
       "    <tr>\n",
       "      <th>Freedom Rating</th>\n",
       "      <th></th>\n",
       "      <th></th>\n",
       "    </tr>\n",
       "  </thead>\n",
       "  <tbody>\n",
       "    <tr>\n",
       "      <th>Free</th>\n",
       "      <td>78</td>\n",
       "      <td>31</td>\n",
       "    </tr>\n",
       "    <tr>\n",
       "      <th>Partly free</th>\n",
       "      <td>82</td>\n",
       "      <td>36</td>\n",
       "    </tr>\n",
       "    <tr>\n",
       "      <th>Not free</th>\n",
       "      <td>70</td>\n",
       "      <td>32</td>\n",
       "    </tr>\n",
       "  </tbody>\n",
       "</table>\n",
       "</div>"
      ],
      "text/plain": [
       "Protests with a significant outcome   0   1\n",
       "Freedom Rating                             \n",
       "Free                                 78  31\n",
       "Partly free                          82  36\n",
       "Not free                             70  32"
      ]
     },
     "execution_count": 86,
     "metadata": {},
     "output_type": "execute_result"
    }
   ],
   "source": [
    "significant_freedom"
   ]
  },
  {
   "cell_type": "code",
   "execution_count": 87,
   "id": "687822a3",
   "metadata": {},
   "outputs": [],
   "source": [
    "chi2, pval, dof, expected = chi2_contingency(significant_freedom)"
   ]
  },
  {
   "cell_type": "code",
   "execution_count": 88,
   "id": "f5e55c14",
   "metadata": {},
   "outputs": [
    {
     "name": "stdout",
     "output_type": "stream",
     "text": [
      "0.8911055066934436\n",
      "[[76.2006079  32.7993921 ]\n",
      " [82.49240122 35.50759878]\n",
      " [71.30699088 30.69300912]]\n"
     ]
    }
   ],
   "source": [
    "print(pval)\n",
    "print(expected)"
   ]
  },
  {
   "cell_type": "markdown",
   "id": "9acd0424",
   "metadata": {},
   "source": [
    "#### Findings"
   ]
  },
  {
   "cell_type": "markdown",
   "id": "92a18045",
   "metadata": {},
   "source": [
    "Corruption motivation had the highest proportion of successful outcomes but was one of the smallest categories.\n",
    "\n",
    "Coronavirus motivated protests had the lowest proportion of successful outcomes and was the smallest category.\n",
    "\n",
    "There was no significant difference between successful outcomes between countries of different freedom ratings."
   ]
  },
  {
   "cell_type": "markdown",
   "id": "1cf993d3",
   "metadata": {},
   "source": [
    "#### Limitations"
   ]
  },
  {
   "cell_type": "markdown",
   "id": "05595bf3",
   "metadata": {},
   "source": [
    "Some of the motivation data spans over multiple categories, for example a protest could have both political and ecomomic motivation. While I don't think it makes the data completely useless, it's worth bearing in mind."
   ]
  },
  {
   "cell_type": "markdown",
   "id": "75478167",
   "metadata": {},
   "source": [
    "### Large protests and Violent government response"
   ]
  },
  {
   "cell_type": "code",
   "execution_count": 89,
   "id": "0c232796",
   "metadata": {},
   "outputs": [
    {
     "data": {
      "text/html": [
       "<div>\n",
       "<style scoped>\n",
       "    .dataframe tbody tr th:only-of-type {\n",
       "        vertical-align: middle;\n",
       "    }\n",
       "\n",
       "    .dataframe tbody tr th {\n",
       "        vertical-align: top;\n",
       "    }\n",
       "\n",
       "    .dataframe thead th {\n",
       "        text-align: right;\n",
       "    }\n",
       "</style>\n",
       "<table border=\"1\" class=\"dataframe\">\n",
       "  <thead>\n",
       "    <tr style=\"text-align: right;\">\n",
       "      <th>Violent government response</th>\n",
       "      <th>0</th>\n",
       "      <th>1</th>\n",
       "    </tr>\n",
       "    <tr>\n",
       "      <th>Large protests (Over 100,000 protesting)</th>\n",
       "      <th></th>\n",
       "      <th></th>\n",
       "    </tr>\n",
       "  </thead>\n",
       "  <tbody>\n",
       "    <tr>\n",
       "      <th>0</th>\n",
       "      <td>208</td>\n",
       "      <td>71</td>\n",
       "    </tr>\n",
       "    <tr>\n",
       "      <th>1</th>\n",
       "      <td>31</td>\n",
       "      <td>19</td>\n",
       "    </tr>\n",
       "  </tbody>\n",
       "</table>\n",
       "</div>"
      ],
      "text/plain": [
       "Violent government response                 0   1\n",
       "Large protests (Over 100,000 protesting)         \n",
       "0                                         208  71\n",
       "1                                          31  19"
      ]
     },
     "execution_count": 89,
     "metadata": {},
     "output_type": "execute_result"
    }
   ],
   "source": [
    "#make a crosstab of large protests vs violent government responses\n",
    "large_violent_contingency = pd.crosstab(df[\"Large protests (Over 100,000 protesting)\"], df[\"Violent government response\"])\n",
    "#print crosstab\n",
    "large_violent_contingency"
   ]
  },
  {
   "cell_type": "markdown",
   "id": "22dae586",
   "metadata": {},
   "source": [
    "#### Hypothesis testing"
   ]
  },
  {
   "cell_type": "markdown",
   "id": "f239540d",
   "metadata": {},
   "source": [
    "H_0 = Violent government responses to protests are independent to the size of protests.\n",
    "\n",
    "H_1 = Violent government responses to protests are not completely independent to the size of protests being over 100,000 people.\n",
    "\n",
    "/alpha A = 0.05\n",
    "\n",
    "A p-value of less than 0.05 would lead us to reject the null hypothesis and conclude that violent government responses are not independent of protests being over 100,000 people."
   ]
  },
  {
   "cell_type": "code",
   "execution_count": 90,
   "id": "4b28887e",
   "metadata": {},
   "outputs": [
    {
     "name": "stdout",
     "output_type": "stream",
     "text": [
      "2.7596971992688255 0.09666653224627982\n",
      "[[202.67781155  76.32218845]\n",
      " [ 36.32218845  13.67781155]]\n"
     ]
    }
   ],
   "source": [
    "chi2, pval, dof, expected = chi2_contingency(large_violent_contingency)\n",
    "\n",
    "print(chi2, pval)\n",
    "print(expected)"
   ]
  },
  {
   "cell_type": "markdown",
   "id": "9f2f1be7",
   "metadata": {},
   "source": [
    "The resultant p-value of 0.097 leads us to accept the null hypothesis and conclude that a violent government response is independent to whether a protest is over 100,000 people in size."
   ]
  },
  {
   "cell_type": "markdown",
   "id": "2fcc6268",
   "metadata": {},
   "source": [
    "### Long protests and Violent government responses"
   ]
  },
  {
   "cell_type": "code",
   "execution_count": 91,
   "id": "4cda76dc",
   "metadata": {},
   "outputs": [
    {
     "data": {
      "text/html": [
       "<div>\n",
       "<style scoped>\n",
       "    .dataframe tbody tr th:only-of-type {\n",
       "        vertical-align: middle;\n",
       "    }\n",
       "\n",
       "    .dataframe tbody tr th {\n",
       "        vertical-align: top;\n",
       "    }\n",
       "\n",
       "    .dataframe thead th {\n",
       "        text-align: right;\n",
       "    }\n",
       "</style>\n",
       "<table border=\"1\" class=\"dataframe\">\n",
       "  <thead>\n",
       "    <tr style=\"text-align: right;\">\n",
       "      <th>Violent government response</th>\n",
       "      <th>0</th>\n",
       "      <th>1</th>\n",
       "    </tr>\n",
       "    <tr>\n",
       "      <th>Long protests (more than 3 months)</th>\n",
       "      <th></th>\n",
       "      <th></th>\n",
       "    </tr>\n",
       "  </thead>\n",
       "  <tbody>\n",
       "    <tr>\n",
       "      <th>0</th>\n",
       "      <td>191</td>\n",
       "      <td>58</td>\n",
       "    </tr>\n",
       "    <tr>\n",
       "      <th>1</th>\n",
       "      <td>48</td>\n",
       "      <td>32</td>\n",
       "    </tr>\n",
       "  </tbody>\n",
       "</table>\n",
       "</div>"
      ],
      "text/plain": [
       "Violent government response           0   1\n",
       "Long protests (more than 3 months)         \n",
       "0                                   191  58\n",
       "1                                    48  32"
      ]
     },
     "execution_count": 91,
     "metadata": {},
     "output_type": "execute_result"
    }
   ],
   "source": [
    "#make a crosstab of long protests vs violent government responses\n",
    "long_violent_contingency = pd.crosstab(df[\"Long protests (more than 3 months)\"], \n",
    "                                       df[\"Violent government response\"])\n",
    "#print crosstab\n",
    "long_violent_contingency"
   ]
  },
  {
   "cell_type": "markdown",
   "id": "c677a5a0",
   "metadata": {},
   "source": [
    "#### Hypothesis testing"
   ]
  },
  {
   "cell_type": "markdown",
   "id": "8b9c4239",
   "metadata": {},
   "source": [
    "H_0 = Violent government responses to protests are independent to the length of protests being over 3 months.\n",
    "\n",
    "H_1 = Violent government responses to protests are not independent to the length of protests eing over 3 months.\n",
    "\n",
    "/alpha A = 0.05\n",
    "\n",
    "A p-value of less than 0.05 would lead us to reject the null hypothesis and conclude that violent government responses are not completely independent to the length of the protests."
   ]
  },
  {
   "cell_type": "code",
   "execution_count": 92,
   "id": "45b89671",
   "metadata": {
    "scrolled": false
   },
   "outputs": [
    {
     "name": "stdout",
     "output_type": "stream",
     "text": [
      "7.684256109164693 0.005570463672242339\n",
      "[[180.88449848  68.11550152]\n",
      " [ 58.11550152  21.88449848]]\n"
     ]
    }
   ],
   "source": [
    "chi2, pval, dof, expected = chi2_contingency(long_violent_contingency)\n",
    "\n",
    "print(chi2, pval)\n",
    "print(expected)"
   ]
  },
  {
   "cell_type": "markdown",
   "id": "e5cb6fae",
   "metadata": {},
   "source": [
    "The resultant p-value is 0.006 leading us to accept the alternative hypothesis of violent government responses to protests not being independent to the length of protests."
   ]
  },
  {
   "cell_type": "markdown",
   "id": "8d1a3eef",
   "metadata": {},
   "source": [
    "#### Findings"
   ]
  },
  {
   "cell_type": "markdown",
   "id": "bf6356ee",
   "metadata": {},
   "source": [
    "A Chi square contingency test of Violent government responses against Large protests (over 100,000 people) concluded that these two factors are independent of each other.\n",
    "\n",
    "A Chi square contingency test of Violent government response against Long protests (over 3 months) revealed that is it highly unlikely that these two factors aren't independent form each other. \n",
    "\n",
    "\n",
    "\n",
    "\n"
   ]
  },
  {
   "cell_type": "markdown",
   "id": "fcbd52d5",
   "metadata": {},
   "source": [
    "### Violence over time"
   ]
  },
  {
   "cell_type": "code",
   "execution_count": 93,
   "id": "f6923155",
   "metadata": {},
   "outputs": [],
   "source": [
    "df[\"Start Date\"] = pd.to_datetime(df[\"Start Date\"], format = \"%b-%y\")"
   ]
  },
  {
   "cell_type": "code",
   "execution_count": 94,
   "id": "60ccba80",
   "metadata": {},
   "outputs": [
    {
     "data": {
      "text/html": [
       "<div>\n",
       "<style scoped>\n",
       "    .dataframe tbody tr th:only-of-type {\n",
       "        vertical-align: middle;\n",
       "    }\n",
       "\n",
       "    .dataframe tbody tr th {\n",
       "        vertical-align: top;\n",
       "    }\n",
       "\n",
       "    .dataframe thead th {\n",
       "        text-align: right;\n",
       "    }\n",
       "</style>\n",
       "<table border=\"1\" class=\"dataframe\">\n",
       "  <thead>\n",
       "    <tr style=\"text-align: right;\">\n",
       "      <th></th>\n",
       "      <th>Start Date</th>\n",
       "      <th>Protest Name</th>\n",
       "    </tr>\n",
       "  </thead>\n",
       "  <tbody>\n",
       "    <tr>\n",
       "      <th>60</th>\n",
       "      <td>2022-01-01</td>\n",
       "      <td>3</td>\n",
       "    </tr>\n",
       "    <tr>\n",
       "      <th>61</th>\n",
       "      <td>2022-02-01</td>\n",
       "      <td>4</td>\n",
       "    </tr>\n",
       "    <tr>\n",
       "      <th>62</th>\n",
       "      <td>2022-03-01</td>\n",
       "      <td>6</td>\n",
       "    </tr>\n",
       "    <tr>\n",
       "      <th>63</th>\n",
       "      <td>2022-04-01</td>\n",
       "      <td>3</td>\n",
       "    </tr>\n",
       "    <tr>\n",
       "      <th>64</th>\n",
       "      <td>2022-05-01</td>\n",
       "      <td>1</td>\n",
       "    </tr>\n",
       "  </tbody>\n",
       "</table>\n",
       "</div>"
      ],
      "text/plain": [
       "   Start Date  Protest Name\n",
       "60 2022-01-01             3\n",
       "61 2022-02-01             4\n",
       "62 2022-03-01             6\n",
       "63 2022-04-01             3\n",
       "64 2022-05-01             1"
      ]
     },
     "execution_count": 94,
     "metadata": {},
     "output_type": "execute_result"
    }
   ],
   "source": [
    "sd_df = df[[\"Start Date\", \"Protest Name\"]].groupby(\"Start Date\").count().reset_index()\n",
    "sd_df.tail()"
   ]
  },
  {
   "cell_type": "code",
   "execution_count": 95,
   "id": "65971e53",
   "metadata": {
    "scrolled": false
   },
   "outputs": [
    {
     "data": {
      "image/png": "[encoded data removed]",
      "text/plain": [
       "<Figure size 720x576 with 1 Axes>"
      ]
     },
     "metadata": {},
     "output_type": "display_data"
    }
   ],
   "source": [
    "fig = plt.figure(figsize = (10, 8))\n",
    "ax = sns.lineplot(x = df[\"Start Date\"], \n",
    "                  y = df[\"Violent government response\"], \n",
    "                  hue = df[\"Violent government response\"], \n",
    "                  ci = None, \n",
    "                  estimator = \"count\")\n",
    "\n",
    "ax.axhline(\n",
    "    y = np.nanmean(sd_df[sd_df[\"Start Date\"] < \"2019-10-01\"][\"Protest Name\"]),\n",
    "    xmax = 0.5,\n",
    "    c = \"gray\",\n",
    "    ls = \"--\")\n",
    "ax.axhline(\n",
    "    y = np.nanmean(sd_df[sd_df[\"Start Date\"] > \"2019-10-01\"][\"Protest Name\"]),\n",
    "    xmin = 0.5,\n",
    "    c = \"gray\",\n",
    "    ls = \"--\")\n",
    "\n",
    "plt.title(\"Protests Starting Over Time by Violent Response\")\n",
    "plt.ylabel(\"Number of Protests Started\")\n",
    "plt.legend([\"No Violent Response\", \"Violent Response\"])\n",
    "plt.savefig(\"Protests Starting Over Time by Violent Response\")\n",
    "plt.show()"
   ]
  },
  {
   "cell_type": "code",
   "execution_count": 96,
   "id": "303b46fe",
   "metadata": {
    "scrolled": true
   },
   "outputs": [
    {
     "name": "stdout",
     "output_type": "stream",
     "text": [
      "3.606060606060606 119\n",
      "6.258064516129032 194\n"
     ]
    }
   ],
   "source": [
    "#get mean and total protests started per time period\n",
    "print(np.nanmean(sd_df[sd_df[\"Start Date\"] < \"2019-10-01\"][\"Protest Name\"]),\n",
    "      np.sum(sd_df[sd_df[\"Start Date\"] < \"2019-10-01\"][\"Protest Name\"]))\n",
    "print(np.nanmean(sd_df[sd_df[\"Start Date\"] > \"2019-10-01\"][\"Protest Name\"]),\n",
    "      np.sum(sd_df[sd_df[\"Start Date\"] > \"2019-10-01\"][\"Protest Name\"]))"
   ]
  },
  {
   "cell_type": "code",
   "execution_count": 97,
   "id": "0ae730c5",
   "metadata": {},
   "outputs": [
    {
     "name": "stdout",
     "output_type": "stream",
     "text": [
      "3.1212121212121215\n",
      "9.731182795698924\n"
     ]
    }
   ],
   "source": [
    "#determine variance of pre and post 0ct 2019\n",
    "print(variance(sd_df[sd_df[\"Start Date\"] < \"2019-10-01\"][\"Protest Name\"]))\n",
    "print(variance(sd_df[sd_df[\"Start Date\"] > \"2019-10-01\"][\"Protest Name\"]))"
   ]
  },
  {
   "cell_type": "code",
   "execution_count": 98,
   "id": "39a3b5fe",
   "metadata": {},
   "outputs": [
    {
     "name": "stdout",
     "output_type": "stream",
     "text": [
      "8.177796435988765e-05\n"
     ]
    }
   ],
   "source": [
    "#run ttest on pre/post oct 2019 total numbers\n",
    "tstat, pval = ttest_ind(sd_df[sd_df[\"Start Date\"] < \"2019-10-01\"][\"Protest Name\"],\n",
    "                        sd_df[sd_df[\"Start Date\"] > \"2019-10-01\"][\"Protest Name\"])\n",
    "\n",
    "print(pval)"
   ]
  },
  {
   "cell_type": "markdown",
   "id": "18c58fd7",
   "metadata": {},
   "source": [
    "Significant difference as expected"
   ]
  },
  {
   "cell_type": "markdown",
   "id": "22fae8da",
   "metadata": {},
   "source": [
    "#### Take Coronavirus related protests out to determine if this was the main driving factor of the increase"
   ]
  },
  {
   "cell_type": "code",
   "execution_count": 99,
   "id": "56dda444",
   "metadata": {},
   "outputs": [
    {
     "data": {
      "text/plain": [
       "48"
      ]
     },
     "execution_count": 99,
     "metadata": {},
     "output_type": "execute_result"
    }
   ],
   "source": [
    "#get total number of coronavirus protests\n",
    "df[df[\"Coronavirus-related protests\"] == 1][\"Protest Name\"].count()"
   ]
  },
  {
   "cell_type": "code",
   "execution_count": 100,
   "id": "a69ad259",
   "metadata": {},
   "outputs": [
    {
     "data": {
      "text/plain": [
       "146"
      ]
     },
     "execution_count": 100,
     "metadata": {},
     "output_type": "execute_result"
    }
   ],
   "source": [
    "#take away coronavirus-related protests\n",
    "194-48"
   ]
  },
  {
   "cell_type": "code",
   "execution_count": 101,
   "id": "193c5763",
   "metadata": {
    "scrolled": true
   },
   "outputs": [
    {
     "data": {
      "text/plain": [
       "4.709677419354839"
      ]
     },
     "execution_count": 101,
     "metadata": {},
     "output_type": "execute_result"
    }
   ],
   "source": [
    "#determine mean per month non covid protests post 10-2019\n",
    "146/31"
   ]
  },
  {
   "cell_type": "markdown",
   "id": "cccaa5d6",
   "metadata": {},
   "source": [
    "#### Split data into 2 groups and determine variance "
   ]
  },
  {
   "cell_type": "code",
   "execution_count": 102,
   "id": "ac573025",
   "metadata": {},
   "outputs": [],
   "source": [
    "#define pre-october 2019 df\n",
    "pre_10_2019 = sd_df[sd_df[\"Start Date\"] < \"2019-10-01\"]\n",
    "\n",
    "#define post-october 2019 non-covid related df\n",
    "post_10_2019 = df[df[\"Coronavirus-related protests\"] == 0][[\"Start Date\",\n",
    "                                                            \"Protest Name\"]].groupby(\"Start Date\").count().reset_index()"
   ]
  },
  {
   "cell_type": "code",
   "execution_count": 103,
   "id": "01e349c5",
   "metadata": {},
   "outputs": [
    {
     "name": "stdout",
     "output_type": "stream",
     "text": [
      "Variance of Pre 10-2019 = 3.1212121212121215\n",
      "Variance of Post 10-2019 = 6.628365384615385\n"
     ]
    }
   ],
   "source": [
    "#determine variance of each group df\n",
    "print(f\"Variance of Pre 10-2019 = {variance(pre_10_2019['Protest Name'])}\")\n",
    "print(f\"Variance of Post 10-2019 = {variance(post_10_2019['Protest Name'])}\")"
   ]
  },
  {
   "cell_type": "code",
   "execution_count": 104,
   "id": "20e930b1",
   "metadata": {},
   "outputs": [
    {
     "name": "stdout",
     "output_type": "stream",
     "text": [
      "The variance ratio is 2.121794871794872 which passes for equal variance\n"
     ]
    }
   ],
   "source": [
    "print(f\"The variance ratio is {6.62/3.12} which passes for equal variance\")"
   ]
  },
  {
   "cell_type": "markdown",
   "id": "09b5b2bd",
   "metadata": {},
   "source": [
    "#### Perform 2 sample t test"
   ]
  },
  {
   "cell_type": "markdown",
   "id": "06a27989",
   "metadata": {},
   "source": [
    "H0 = There is no significant difference between the mean protests started between pre and post october 2019\n",
    "\n",
    "H1 = There is a significant difference between the mean protests started etween pre and post october 2019\n",
    "\n",
    "alpha = 0.05"
   ]
  },
  {
   "cell_type": "code",
   "execution_count": 105,
   "id": "3ce5e165",
   "metadata": {},
   "outputs": [
    {
     "name": "stdout",
     "output_type": "stream",
     "text": [
      "-1.4356897524330485 0.15434104601279336\n"
     ]
    }
   ],
   "source": [
    "tstat, pval = ttest_ind(pre_10_2019['Protest Name'], post_10_2019['Protest Name'])\n",
    "print(tstat, pval)"
   ]
  },
  {
   "cell_type": "markdown",
   "id": "e5759103",
   "metadata": {},
   "source": [
    "With a pval of 0.15, we can accept the null hypothesis that there was no significant difference between protest activity between pre and post October 2019, accounting for coronavirus protests."
   ]
  },
  {
   "cell_type": "markdown",
   "id": "de185855",
   "metadata": {},
   "source": [
    "### Protest Duration by Start Date"
   ]
  },
  {
   "cell_type": "code",
   "execution_count": 118,
   "id": "9a3d777d",
   "metadata": {},
   "outputs": [
    {
     "data": {
      "image/png": "[encoded data removed]",
      "text/plain": [
       "<Figure size 720x576 with 1 Axes>"
      ]
     },
     "metadata": {},
     "output_type": "display_data"
    }
   ],
   "source": [
    "#plot scatter plot to check for correlation between start date and protest duration\n",
    "fig = plt.figure(figsize = (10, 8))\n",
    "ax = sns.scatterplot(x = df[\"Start Date\"], \n",
    "                     y = df[\"Duration (Days)\"],\n",
    "                     hue = df[\"Violent government response\"])\n",
    "\n",
    "plt.show()"
   ]
  },
  {
   "cell_type": "markdown",
   "id": "3769981c",
   "metadata": {},
   "source": [
    "There seems to be no correlations to this data other than obvious groups of days, such as 30, 60, 90 days. 365/1 year and the 95percentile cap at just under 500 days."
   ]
  },
  {
   "cell_type": "markdown",
   "id": "f846f72b",
   "metadata": {},
   "source": [
    "## Export Clean Data For Use In Tableau"
   ]
  },
  {
   "cell_type": "code",
   "execution_count": 107,
   "id": "e44e2e42",
   "metadata": {},
   "outputs": [],
   "source": [
    "df.to_csv(\"clean_protest_data.csv\")"
   ]
  }
 ],
 "metadata": {
  "kernelspec": {
   "display_name": "Python 3",
   "language": "python",
   "name": "python3"
  },
  "language_info": {
   "codemirror_mode": {
    "name": "ipython",
    "version": 3
   },
   "file_extension": ".py",
   "mimetype": "text/x-python",
   "name": "python",
   "nbconvert_exporter": "python",
   "pygments_lexer": "ipython3",
   "version": "3.8.8"
  }
 },
 "nbformat": 4,
 "nbformat_minor": 5
}
